{
 "cells": [
  {
   "cell_type": "markdown",
   "metadata": {},
   "source": [
    "# Artificial Neural Network"
   ]
  },
  {
   "cell_type": "markdown",
   "metadata": {},
   "source": [
    "## Part 1 - Data Preprocessing"
   ]
  },
  {
   "cell_type": "code",
   "execution_count": 11,
   "metadata": {},
   "outputs": [],
   "source": [
    "# Importing the libraries\n",
    "import numpy as np\n",
    "import matplotlib.pyplot as plt\n",
    "import pandas as pd"
   ]
  },
  {
   "cell_type": "code",
   "execution_count": 12,
   "metadata": {},
   "outputs": [],
   "source": [
    "# Importing the dataset\n",
    "dataset = pd.read_csv(\"Churn_Modelling.csv\")\n",
    "X = dataset.iloc[:, 3:13].values\n",
    "y = dataset.iloc[:, 13].values"
   ]
  },
  {
   "cell_type": "code",
   "execution_count": 13,
   "metadata": {},
   "outputs": [
    {
     "ename": "TypeError",
     "evalue": "__init__() got an unexpected keyword argument 'categorical_features'",
     "output_type": "error",
     "traceback": [
      "\u001b[1;31m---------------------------------------------------------------------------\u001b[0m",
      "\u001b[1;31mTypeError\u001b[0m                                 Traceback (most recent call last)",
      "\u001b[1;32m<ipython-input-13-dce3dec63743>\u001b[0m in \u001b[0;36m<module>\u001b[1;34m\u001b[0m\n\u001b[0;32m      5\u001b[0m \u001b[0mlabelencoder_X_2\u001b[0m \u001b[1;33m=\u001b[0m \u001b[0mLabelEncoder\u001b[0m\u001b[1;33m(\u001b[0m\u001b[1;33m)\u001b[0m\u001b[1;33m\u001b[0m\u001b[1;33m\u001b[0m\u001b[0m\n\u001b[0;32m      6\u001b[0m \u001b[0mX\u001b[0m\u001b[1;33m[\u001b[0m\u001b[1;33m:\u001b[0m\u001b[1;33m,\u001b[0m \u001b[1;36m2\u001b[0m\u001b[1;33m]\u001b[0m \u001b[1;33m=\u001b[0m \u001b[0mlabelencoder_X_2\u001b[0m\u001b[1;33m.\u001b[0m\u001b[0mfit_transform\u001b[0m\u001b[1;33m(\u001b[0m\u001b[0mX\u001b[0m\u001b[1;33m[\u001b[0m\u001b[1;33m:\u001b[0m\u001b[1;33m,\u001b[0m \u001b[1;36m2\u001b[0m\u001b[1;33m]\u001b[0m\u001b[1;33m)\u001b[0m\u001b[1;33m\u001b[0m\u001b[1;33m\u001b[0m\u001b[0m\n\u001b[1;32m----> 7\u001b[1;33m \u001b[0monehotencoder\u001b[0m \u001b[1;33m=\u001b[0m \u001b[0mOneHotEncoder\u001b[0m\u001b[1;33m(\u001b[0m\u001b[0mcategorical_features\u001b[0m \u001b[1;33m=\u001b[0m \u001b[1;33m[\u001b[0m\u001b[1;36m1\u001b[0m\u001b[1;33m]\u001b[0m\u001b[1;33m)\u001b[0m\u001b[1;33m\u001b[0m\u001b[1;33m\u001b[0m\u001b[0m\n\u001b[0m\u001b[0;32m      8\u001b[0m \u001b[0mX\u001b[0m \u001b[1;33m=\u001b[0m \u001b[0monehotencoder\u001b[0m\u001b[1;33m.\u001b[0m\u001b[0mfit_transform\u001b[0m\u001b[1;33m(\u001b[0m\u001b[0mX\u001b[0m\u001b[1;33m)\u001b[0m\u001b[1;33m.\u001b[0m\u001b[0mtoarray\u001b[0m\u001b[1;33m(\u001b[0m\u001b[1;33m)\u001b[0m\u001b[1;33m\u001b[0m\u001b[1;33m\u001b[0m\u001b[0m\n\u001b[0;32m      9\u001b[0m \u001b[0mX\u001b[0m \u001b[1;33m=\u001b[0m \u001b[0mX\u001b[0m\u001b[1;33m[\u001b[0m\u001b[1;33m:\u001b[0m\u001b[1;33m,\u001b[0m \u001b[1;36m1\u001b[0m\u001b[1;33m:\u001b[0m\u001b[1;33m]\u001b[0m\u001b[1;33m\u001b[0m\u001b[1;33m\u001b[0m\u001b[0m\n",
      "\u001b[1;32m~\\anaconda3\\lib\\site-packages\\sklearn\\utils\\validation.py\u001b[0m in \u001b[0;36minner_f\u001b[1;34m(*args, **kwargs)\u001b[0m\n\u001b[0;32m     71\u001b[0m                           FutureWarning)\n\u001b[0;32m     72\u001b[0m         \u001b[0mkwargs\u001b[0m\u001b[1;33m.\u001b[0m\u001b[0mupdate\u001b[0m\u001b[1;33m(\u001b[0m\u001b[1;33m{\u001b[0m\u001b[0mk\u001b[0m\u001b[1;33m:\u001b[0m \u001b[0marg\u001b[0m \u001b[1;32mfor\u001b[0m \u001b[0mk\u001b[0m\u001b[1;33m,\u001b[0m \u001b[0marg\u001b[0m \u001b[1;32min\u001b[0m \u001b[0mzip\u001b[0m\u001b[1;33m(\u001b[0m\u001b[0msig\u001b[0m\u001b[1;33m.\u001b[0m\u001b[0mparameters\u001b[0m\u001b[1;33m,\u001b[0m \u001b[0margs\u001b[0m\u001b[1;33m)\u001b[0m\u001b[1;33m}\u001b[0m\u001b[1;33m)\u001b[0m\u001b[1;33m\u001b[0m\u001b[1;33m\u001b[0m\u001b[0m\n\u001b[1;32m---> 73\u001b[1;33m         \u001b[1;32mreturn\u001b[0m \u001b[0mf\u001b[0m\u001b[1;33m(\u001b[0m\u001b[1;33m**\u001b[0m\u001b[0mkwargs\u001b[0m\u001b[1;33m)\u001b[0m\u001b[1;33m\u001b[0m\u001b[1;33m\u001b[0m\u001b[0m\n\u001b[0m\u001b[0;32m     74\u001b[0m     \u001b[1;32mreturn\u001b[0m \u001b[0minner_f\u001b[0m\u001b[1;33m\u001b[0m\u001b[1;33m\u001b[0m\u001b[0m\n\u001b[0;32m     75\u001b[0m \u001b[1;33m\u001b[0m\u001b[0m\n",
      "\u001b[1;31mTypeError\u001b[0m: __init__() got an unexpected keyword argument 'categorical_features'"
     ]
    }
   ],
   "source": [
    "# Encoding categorical data\n",
    "from sklearn.preprocessing import LabelEncoder, OneHotEncoder\n",
    "labelencoder_X_1 = LabelEncoder()\n",
    "X[:, 1] = labelencoder_X_1.fit_transform(X[:, 1])\n",
    "labelencoder_X_2 = LabelEncoder()\n",
    "X[:, 2] = labelencoder_X_2.fit_transform(X[:, 2])\n",
    "onehotencoder = OneHotEncoder(categorical_features = [1])\n",
    "X = onehotencoder.fit_transform(X).toarray()\n",
    "X = X[:, 1:]"
   ]
  },
  {
   "cell_type": "code",
   "execution_count": null,
   "metadata": {},
   "outputs": [],
   "source": [
    "# Splitting the dataset into the Training set and Test set\n",
    "from sklearn.model_selection import train_test_split\n",
    "X_train, X_test, y_train, y_test = train_test_split(X, y, \n",
    "                                                    test_size = 0.2, \n",
    "                                                    random_state = 0)"
   ]
  },
  {
   "cell_type": "code",
   "execution_count": null,
   "metadata": {},
   "outputs": [],
   "source": [
    "# Feature Scaling\n",
    "from sklearn.preprocessing import StandardScaler\n",
    "sc = StandardScaler()\n",
    "X_train = sc.fit_transform(X_train)\n",
    "X_test = sc.transform(X_test)"
   ]
  },
  {
   "cell_type": "markdown",
   "metadata": {},
   "source": [
    "## Part 2 - Create the ANN!"
   ]
  },
  {
   "cell_type": "code",
   "execution_count": null,
   "metadata": {},
   "outputs": [],
   "source": [
    "# Importing the Keras libraries and packages\n",
    "import keras\n",
    "from keras.models import Sequential\n",
    "from keras.layers import Dense, Dropout\n",
    "from keras.optimizers import Nadam"
   ]
  },
  {
   "cell_type": "code",
   "execution_count": 8,
   "metadata": {},
   "outputs": [
    {
     "ename": "NameError",
     "evalue": "name 'Sequential' is not defined",
     "output_type": "error",
     "traceback": [
      "\u001b[1;31m---------------------------------------------------------------------------\u001b[0m",
      "\u001b[1;31mNameError\u001b[0m                                 Traceback (most recent call last)",
      "\u001b[1;32m<ipython-input-8-0fb30ce25589>\u001b[0m in \u001b[0;36m<module>\u001b[1;34m\u001b[0m\n\u001b[0;32m      1\u001b[0m \u001b[1;31m# Initialising the ANN\u001b[0m\u001b[1;33m\u001b[0m\u001b[1;33m\u001b[0m\u001b[1;33m\u001b[0m\u001b[0m\n\u001b[1;32m----> 2\u001b[1;33m \u001b[0mclassifier\u001b[0m \u001b[1;33m=\u001b[0m \u001b[0mSequential\u001b[0m\u001b[1;33m(\u001b[0m\u001b[1;33m)\u001b[0m\u001b[1;33m\u001b[0m\u001b[1;33m\u001b[0m\u001b[0m\n\u001b[0m",
      "\u001b[1;31mNameError\u001b[0m: name 'Sequential' is not defined"
     ]
    }
   ],
   "source": [
    "# Initialising the ANN\n",
    "classifier = Sequential()"
   ]
  },
  {
   "cell_type": "code",
   "execution_count": null,
   "metadata": {},
   "outputs": [],
   "source": [
    "# Adding the input layer and the first hidden layer\n",
    "classifier.add(Dense(units = X_train.shape[1], \n",
    "                     kernel_initializer = 'uniform', \n",
    "                     activation = 'relu', \n",
    "                     input_dim = X_train.shape[1]))"
   ]
  },
  {
   "cell_type": "code",
   "execution_count": null,
   "metadata": {},
   "outputs": [],
   "source": [
    "# Adding the second hidden layer\n",
    "classifier.add(Dense(units = 6, \n",
    "                     kernel_initializer = 'uniform', \n",
    "                     activation = 'relu'))"
   ]
  },
  {
   "cell_type": "code",
   "execution_count": null,
   "metadata": {},
   "outputs": [],
   "source": [
    "# Adding a Dropout\n",
    "classifier.add(Dropout(rate = 0.2))"
   ]
  },
  {
   "cell_type": "code",
   "execution_count": null,
   "metadata": {},
   "outputs": [],
   "source": [
    "# Adding the output layer\n",
    "classifier.add(Dense(units = 1, \n",
    "                     kernel_initializer = 'uniform', \n",
    "                     activation = 'sigmoid'))"
   ]
  },
  {
   "cell_type": "code",
   "execution_count": null,
   "metadata": {},
   "outputs": [],
   "source": [
    "# Compiling the ANN\n",
    "classifier.compile(optimizer = 'adamax', \n",
    "                   loss = 'binary_crossentropy', \n",
    "                   metrics = ['accuracy'])"
   ]
  },
  {
   "cell_type": "code",
   "execution_count": null,
   "metadata": {},
   "outputs": [],
   "source": [
    "# Fitting the ANN to the Training set\n",
    "classifier.fit(X_train, y_train, batch_size = 32, epochs = 15)"
   ]
  },
  {
   "cell_type": "markdown",
   "metadata": {},
   "source": [
    "## Part 3 - Making predictions and evaluating the model"
   ]
  },
  {
   "cell_type": "code",
   "execution_count": 7,
   "metadata": {},
   "outputs": [
    {
     "ename": "NameError",
     "evalue": "name 'classifier' is not defined",
     "output_type": "error",
     "traceback": [
      "\u001b[1;31m---------------------------------------------------------------------------\u001b[0m",
      "\u001b[1;31mNameError\u001b[0m                                 Traceback (most recent call last)",
      "\u001b[1;32m<ipython-input-7-c3c1dba296b4>\u001b[0m in \u001b[0;36m<module>\u001b[1;34m\u001b[0m\n\u001b[0;32m      1\u001b[0m \u001b[1;31m# Predicting the Test set results\u001b[0m\u001b[1;33m\u001b[0m\u001b[1;33m\u001b[0m\u001b[1;33m\u001b[0m\u001b[0m\n\u001b[1;32m----> 2\u001b[1;33m \u001b[0my_pred\u001b[0m \u001b[1;33m=\u001b[0m \u001b[0mclassifier\u001b[0m\u001b[1;33m.\u001b[0m\u001b[0mpredict_classes\u001b[0m\u001b[1;33m(\u001b[0m\u001b[0mX_test\u001b[0m\u001b[1;33m)\u001b[0m\u001b[1;33m\u001b[0m\u001b[1;33m\u001b[0m\u001b[0m\n\u001b[0m\u001b[0;32m      3\u001b[0m \u001b[0my_pred\u001b[0m\u001b[1;33m\u001b[0m\u001b[1;33m\u001b[0m\u001b[0m\n",
      "\u001b[1;31mNameError\u001b[0m: name 'classifier' is not defined"
     ]
    }
   ],
   "source": [
    "# Predicting the Test set results\n",
    "y_pred = classifier.predict_classes(X_test)\n",
    "y_pred"
   ]
  },
  {
   "cell_type": "markdown",
   "metadata": {},
   "source": [
    "#### Predicting a single new observation\n",
    "\"\"\"Predict if the customer with the following informations will leave the bank:\n",
    "Geography: France\n",
    "Credit Score: 600\n",
    "Gender: Male\n",
    "Age: 40\n",
    "Tenure: 3\n",
    "Balance: 60000\n",
    "Number of Products: 2\n",
    "Has Credit Card: Yes\n",
    "Is Active Member: Yes\n",
    "Estimated Salary: 50000\"\"\""
   ]
  },
  {
   "cell_type": "code",
   "execution_count": null,
   "metadata": {},
   "outputs": [],
   "source": [
    "new_prediction = classifier.predict_classes(sc.transform(np.array([[0.0, 0, 600, 1, 40, 3, 60000, 2, 1, 1, 50000]])))\n",
    "new_prediction"
   ]
  },
  {
   "cell_type": "code",
   "execution_count": 5,
   "metadata": {},
   "outputs": [
    {
     "ename": "NameError",
     "evalue": "name 'dataset' is not defined",
     "output_type": "error",
     "traceback": [
      "\u001b[1;31m---------------------------------------------------------------------------\u001b[0m",
      "\u001b[1;31mNameError\u001b[0m                                 Traceback (most recent call last)",
      "\u001b[1;32m<ipython-input-5-5680be046538>\u001b[0m in \u001b[0;36m<module>\u001b[1;34m\u001b[0m\n\u001b[1;32m----> 1\u001b[1;33m \u001b[0mdataset\u001b[0m\u001b[1;33m.\u001b[0m\u001b[0mcolumn\u001b[0m\u001b[1;33m\u001b[0m\u001b[1;33m\u001b[0m\u001b[0m\n\u001b[0m",
      "\u001b[1;31mNameError\u001b[0m: name 'dataset' is not defined"
     ]
    }
   ],
   "source": [
    "dataset.column"
   ]
  },
  {
   "cell_type": "code",
   "execution_count": 86,
   "metadata": {},
   "outputs": [],
   "source": [
    "# Evaluating the Keras Model\n",
    "from sklearn.metrics import (confusion_matrix, accuracy_score, precision_score, \n",
    "                             recall_score, f1_score)"
   ]
  },
  {
   "cell_type": "code",
   "execution_count": 87,
   "metadata": {},
   "outputs": [
    {
     "name": "stdout",
     "output_type": "stream",
     "text": [
      "Confusion Matrix for ANN: \n",
      " [[1544   51]\n",
      " [ 270  135]]\n",
      "Accuracy for ANN: \n",
      " 0.8395\n",
      "Precision for ANN: \n",
      " 0.7258064516129032\n",
      "Recall for ANN: \n",
      " 0.3333333333333333\n",
      "f1_score for ANN: \n",
      " 0.4568527918781726\n"
     ]
    }
   ],
   "source": [
    "print('Confusion Matrix for ANN: \\n',confusion_matrix(y_test, classifier.predict_classes(X_test)))\n",
    "print('Accuracy for ANN: \\n',accuracy_score(y_test, classifier.predict_classes(X_test)))\n",
    "print('Precision for ANN: \\n',precision_score(y_test, classifier.predict_classes(X_test)))\n",
    "print('Recall for ANN: \\n',recall_score(y_test, classifier.predict_classes(X_test)))\n",
    "print('f1_score for ANN: \\n',f1_score(y_test, classifier.predict_classes(X_test)))"
   ]
  },
  {
   "cell_type": "markdown",
   "metadata": {},
   "source": [
    "## Part 4 - Hyperparameter tuning for the Neural Network"
   ]
  },
  {
   "cell_type": "code",
   "execution_count": 88,
   "metadata": {},
   "outputs": [],
   "source": [
    "from keras.wrappers.scikit_learn import KerasClassifier\n",
    "from sklearn.model_selection import GridSearchCV"
   ]
  },
  {
   "cell_type": "code",
   "execution_count": 89,
   "metadata": {},
   "outputs": [],
   "source": [
    "# Function to get the Keras Model\n",
    "def build_classifier():\n",
    "    classifier = Sequential()\n",
    "    classifier.add(Dense(units = X_train.shape[1], input_dim=11, activation = 'relu'))\n",
    "    classifier.add(Dense(units = 6, activation = 'relu'))\n",
    "    classifier.add(Dropout(rate = 0.2))\n",
    "    classifier.add(Dense(units = 1, activation = 'sigmoid'))\n",
    "    classifier.compile(optimizer = 'adam', \n",
    "                       loss = 'binary_crossentropy', \n",
    "                       metrics = ['accuracy'])\n",
    "    return classifier"
   ]
  },
  {
   "cell_type": "code",
   "execution_count": 90,
   "metadata": {},
   "outputs": [],
   "source": [
    "model = KerasClassifier(build_fn=build_classifier, verbose=0)"
   ]
  },
  {
   "cell_type": "markdown",
   "metadata": {},
   "source": [
    "### Tune for batch_size and number of epochs"
   ]
  },
  {
   "cell_type": "code",
   "execution_count": 91,
   "metadata": {},
   "outputs": [],
   "source": [
    "# define the grid search parameters for batch_size and epochs\n",
    "batch_size = [100, 200, 300]\n",
    "epochs = [10, 15, 20]"
   ]
  },
  {
   "cell_type": "code",
   "execution_count": 92,
   "metadata": {},
   "outputs": [
    {
     "data": {
      "text/plain": [
       "{'batch_size': [100, 200, 300], 'epochs': [10, 15, 20]}"
      ]
     },
     "execution_count": 92,
     "metadata": {},
     "output_type": "execute_result"
    }
   ],
   "source": [
    "param_grid_1 = dict(batch_size=batch_size, epochs=epochs)\n",
    "param_grid_1"
   ]
  },
  {
   "cell_type": "code",
   "execution_count": 93,
   "metadata": {},
   "outputs": [],
   "source": [
    "grid = GridSearchCV(estimator=model, \n",
    "                    param_grid=param_grid_1, \n",
    "                    cv=5,\n",
    "                    n_jobs=-1)"
   ]
  },
  {
   "cell_type": "code",
   "execution_count": 94,
   "metadata": {},
   "outputs": [
    {
     "name": "stderr",
     "output_type": "stream",
     "text": [
      "C:\\Users\\IBM_ADMIN\\Anaconda3\\envs\\deeplearn\\lib\\site-packages\\sklearn\\externals\\joblib\\externals\\loky\\process_executor.py:706: UserWarning: A worker stopped while some jobs were given to the executor. This can be caused by a too short worker timeout or by a memory leak.\n",
      "  \"timeout or by a memory leak.\", UserWarning\n"
     ]
    }
   ],
   "source": [
    "grid_result = grid.fit(X_train, y_train)"
   ]
  },
  {
   "cell_type": "code",
   "execution_count": 95,
   "metadata": {},
   "outputs": [
    {
     "data": {
      "text/plain": [
       "0.834375"
      ]
     },
     "execution_count": 95,
     "metadata": {},
     "output_type": "execute_result"
    }
   ],
   "source": [
    "grid_result.best_score_"
   ]
  },
  {
   "cell_type": "code",
   "execution_count": 96,
   "metadata": {},
   "outputs": [
    {
     "data": {
      "text/plain": [
       "{'batch_size': 100, 'epochs': 15}"
      ]
     },
     "execution_count": 96,
     "metadata": {},
     "output_type": "execute_result"
    }
   ],
   "source": [
    "grid_result.best_params_"
   ]
  },
  {
   "cell_type": "code",
   "execution_count": 97,
   "metadata": {},
   "outputs": [],
   "source": [
    "# Function to get the Keras Model\n",
    "def build_classifier2(optimizer = 'adam'):\n",
    "    classifier = Sequential()\n",
    "    classifier.add(Dense(units = X_train.shape[1], activation = 'relu', input_dim=X_train.shape[1]))\n",
    "    classifier.add(Dense(units = 6, activation = 'relu'))\n",
    "    classifier.add(Dropout(rate = 0.2))\n",
    "    classifier.add(Dense(units = 1, activation = 'sigmoid'))\n",
    "    classifier.compile(optimizer = optimizer, \n",
    "                       loss = 'binary_crossentropy', \n",
    "                       metrics = ['accuracy'])\n",
    "    return classifier"
   ]
  },
  {
   "cell_type": "code",
   "execution_count": 98,
   "metadata": {},
   "outputs": [],
   "source": [
    "model2 = KerasClassifier(build_fn=build_classifier2, verbose=0)"
   ]
  },
  {
   "cell_type": "code",
   "execution_count": 99,
   "metadata": {},
   "outputs": [],
   "source": [
    "optimizer = ['SGD', 'RMSprop', 'Adagrad', 'Adadelta', 'Adam', 'Adamax', 'Nadam']"
   ]
  },
  {
   "cell_type": "code",
   "execution_count": 100,
   "metadata": {},
   "outputs": [
    {
     "data": {
      "text/plain": [
       "{'optimizer': ['SGD',\n",
       "  'RMSprop',\n",
       "  'Adagrad',\n",
       "  'Adadelta',\n",
       "  'Adam',\n",
       "  'Adamax',\n",
       "  'Nadam']}"
      ]
     },
     "execution_count": 100,
     "metadata": {},
     "output_type": "execute_result"
    }
   ],
   "source": [
    "param_grid_2 = dict(optimizer=optimizer)\n",
    "param_grid_2"
   ]
  },
  {
   "cell_type": "code",
   "execution_count": 101,
   "metadata": {},
   "outputs": [],
   "source": [
    "grid2 = GridSearchCV(estimator=model2, \n",
    "                    param_grid=param_grid_2, \n",
    "                    cv=5,\n",
    "                    n_jobs=-1)"
   ]
  },
  {
   "cell_type": "code",
   "execution_count": 102,
   "metadata": {},
   "outputs": [],
   "source": [
    "grid_result2 = grid2.fit(X_train, \n",
    "                         y_train, \n",
    "                         batch_size=grid_result.best_params_['batch_size'],\n",
    "                         epochs=grid_result.best_params_['epochs'])"
   ]
  },
  {
   "cell_type": "code",
   "execution_count": 103,
   "metadata": {},
   "outputs": [
    {
     "name": "stdout",
     "output_type": "stream",
     "text": [
      "The best optimizer is:  Nadam\n"
     ]
    }
   ],
   "source": [
    "print(\"The best optimizer is: \",grid_result2.best_params_['optimizer'])"
   ]
  },
  {
   "cell_type": "code",
   "execution_count": 104,
   "metadata": {},
   "outputs": [],
   "source": [
    "# Function to get the Keras Model\n",
    "def build_classifier3(learning_rate=0.01):\n",
    "    classifier = Sequential()\n",
    "    classifier.add(Dense(units = X_train.shape[1], activation = 'relu', input_dim=11))\n",
    "    classifier.add(Dense(units = 6, activation = 'relu'))\n",
    "    classifier.add(Dropout(rate = 0.2))\n",
    "    classifier.add(Dense(units = 1, activation = 'sigmoid'))\n",
    "    optimizer = Nadam(lr=learning_rate)\n",
    "    classifier.compile(optimizer = optimizer, \n",
    "                       loss = 'binary_crossentropy', \n",
    "                       metrics = ['accuracy'])\n",
    "    return classifier"
   ]
  },
  {
   "cell_type": "code",
   "execution_count": 105,
   "metadata": {},
   "outputs": [],
   "source": [
    "model3 = KerasClassifier(build_fn=build_classifier3, verbose=0)"
   ]
  },
  {
   "cell_type": "code",
   "execution_count": 106,
   "metadata": {},
   "outputs": [],
   "source": [
    "learning_rate = [0.001, 0.01, 0.1, 0.2, 0.3]"
   ]
  },
  {
   "cell_type": "code",
   "execution_count": 107,
   "metadata": {},
   "outputs": [
    {
     "data": {
      "text/plain": [
       "{'learning_rate': [0.001, 0.01, 0.1, 0.2, 0.3]}"
      ]
     },
     "execution_count": 107,
     "metadata": {},
     "output_type": "execute_result"
    }
   ],
   "source": [
    "param_grid_3 = dict(learning_rate=learning_rate)\n",
    "param_grid_3"
   ]
  },
  {
   "cell_type": "code",
   "execution_count": 108,
   "metadata": {},
   "outputs": [],
   "source": [
    "grid3 = GridSearchCV(estimator=model3, \n",
    "                    param_grid=param_grid_3, \n",
    "                    cv=5,\n",
    "                    n_jobs=-1)"
   ]
  },
  {
   "cell_type": "code",
   "execution_count": 109,
   "metadata": {},
   "outputs": [],
   "source": [
    "grid_result3 = grid3.fit(X_train, \n",
    "                         y_train, \n",
    "                         batch_size=grid_result.best_params_['batch_size'],\n",
    "                         epochs=grid_result.best_params_['epochs'])"
   ]
  },
  {
   "cell_type": "code",
   "execution_count": 110,
   "metadata": {},
   "outputs": [
    {
     "name": "stdout",
     "output_type": "stream",
     "text": [
      "The optimum learning rate for the best optimizer is:  0.01\n"
     ]
    }
   ],
   "source": [
    "print(\"The optimum learning rate for the best optimizer is: \",grid_result3.best_params_['learning_rate'])"
   ]
  },
  {
   "cell_type": "code",
   "execution_count": 111,
   "metadata": {},
   "outputs": [],
   "source": [
    "# Function to get the Keras Model\n",
    "def build_classifier4(init_mode='uniform'):\n",
    "    classifier = Sequential()\n",
    "    classifier.add(Dense(units = X_train.shape[1], input_dim=11, kernel_initializer=init_mode, activation = 'relu'))\n",
    "    classifier.add(Dense(units = 6, kernel_initializer=init_mode, activation = 'relu'))\n",
    "    classifier.add(Dropout(rate = 0.2))\n",
    "    classifier.add(Dense(units = 1, activation = 'sigmoid'))\n",
    "    optimizer = Nadam(lr=0.01)\n",
    "    classifier.compile(optimizer = optimizer, \n",
    "                       loss = 'binary_crossentropy', \n",
    "                       metrics = ['accuracy'])\n",
    "    return classifier"
   ]
  },
  {
   "cell_type": "code",
   "execution_count": 112,
   "metadata": {},
   "outputs": [],
   "source": [
    "model4 = KerasClassifier(build_fn=build_classifier4, verbose=0)"
   ]
  },
  {
   "cell_type": "code",
   "execution_count": 113,
   "metadata": {},
   "outputs": [],
   "source": [
    "init_mode = ['uniform', 'lecun_uniform', 'normal', 'zero', 'glorot_normal', 'glorot_uniform', 'he_normal', 'he_uniform']"
   ]
  },
  {
   "cell_type": "code",
   "execution_count": 114,
   "metadata": {},
   "outputs": [
    {
     "data": {
      "text/plain": [
       "{'init_mode': ['uniform',\n",
       "  'lecun_uniform',\n",
       "  'normal',\n",
       "  'zero',\n",
       "  'glorot_normal',\n",
       "  'glorot_uniform',\n",
       "  'he_normal',\n",
       "  'he_uniform']}"
      ]
     },
     "execution_count": 114,
     "metadata": {},
     "output_type": "execute_result"
    }
   ],
   "source": [
    "param_grid_4 = dict(init_mode=init_mode)\n",
    "param_grid_4"
   ]
  },
  {
   "cell_type": "code",
   "execution_count": 115,
   "metadata": {},
   "outputs": [],
   "source": [
    "grid4 = GridSearchCV(estimator=model4, \n",
    "                    param_grid=param_grid_4, \n",
    "                    cv=5,\n",
    "                    n_jobs=-1)"
   ]
  },
  {
   "cell_type": "code",
   "execution_count": 116,
   "metadata": {},
   "outputs": [],
   "source": [
    "grid_result4 = grid4.fit(X_train, \n",
    "                         y_train, \n",
    "                         batch_size=grid_result.best_params_['batch_size'],\n",
    "                         epochs=grid_result.best_params_['epochs'])"
   ]
  },
  {
   "cell_type": "code",
   "execution_count": 117,
   "metadata": {},
   "outputs": [
    {
     "name": "stdout",
     "output_type": "stream",
     "text": [
      "The best weight initialization method is:  he_uniform\n"
     ]
    }
   ],
   "source": [
    "print(\"The best weight initialization method is: \",grid_result4.best_params_['init_mode'])"
   ]
  },
  {
   "cell_type": "code",
   "execution_count": 118,
   "metadata": {},
   "outputs": [],
   "source": [
    "# Function to get the Keras Model\n",
    "def build_classifier5(activation='relu'):\n",
    "    classifier = Sequential()\n",
    "    classifier.add(Dense(units = X_train.shape[1], input_dim=11, kernel_initializer='he_uniform', activation = activation))\n",
    "    classifier.add(Dense(units = 6, kernel_initializer='he_uniform', activation = activation))\n",
    "    classifier.add(Dropout(rate = 0.2))\n",
    "    classifier.add(Dense(units = 1, activation = 'sigmoid'))\n",
    "    optimizer = Nadam(lr=0.01)\n",
    "    classifier.compile(optimizer = optimizer, \n",
    "                       loss = 'binary_crossentropy', \n",
    "                       metrics = ['accuracy'])\n",
    "    return classifier"
   ]
  },
  {
   "cell_type": "code",
   "execution_count": 119,
   "metadata": {},
   "outputs": [],
   "source": [
    "model5 = KerasClassifier(build_fn=build_classifier5, verbose=0)"
   ]
  },
  {
   "cell_type": "code",
   "execution_count": 120,
   "metadata": {},
   "outputs": [],
   "source": [
    "activation = ['softmax', 'softplus', 'softsign', 'relu', 'tanh', 'sigmoid', 'hard_sigmoid', 'linear']"
   ]
  },
  {
   "cell_type": "code",
   "execution_count": 121,
   "metadata": {},
   "outputs": [
    {
     "data": {
      "text/plain": [
       "{'activation': ['softmax',\n",
       "  'softplus',\n",
       "  'softsign',\n",
       "  'relu',\n",
       "  'tanh',\n",
       "  'sigmoid',\n",
       "  'hard_sigmoid',\n",
       "  'linear']}"
      ]
     },
     "execution_count": 121,
     "metadata": {},
     "output_type": "execute_result"
    }
   ],
   "source": [
    "param_grid_5 = dict(activation=activation)\n",
    "param_grid_5"
   ]
  },
  {
   "cell_type": "code",
   "execution_count": 122,
   "metadata": {},
   "outputs": [],
   "source": [
    "grid5 = GridSearchCV(estimator=model5, \n",
    "                    param_grid=param_grid_5, \n",
    "                    cv=5,\n",
    "                    n_jobs=-1)"
   ]
  },
  {
   "cell_type": "code",
   "execution_count": 123,
   "metadata": {},
   "outputs": [],
   "source": [
    "grid_result5 = grid5.fit(X_train, \n",
    "                         y_train, \n",
    "                         batch_size=grid_result.best_params_['batch_size'],\n",
    "                         epochs=grid_result.best_params_['epochs'])"
   ]
  },
  {
   "cell_type": "code",
   "execution_count": 124,
   "metadata": {},
   "outputs": [
    {
     "name": "stdout",
     "output_type": "stream",
     "text": [
      "The best layer activation is:  relu\n"
     ]
    }
   ],
   "source": [
    "print(\"The best layer activation is: \",grid_result5.best_params_['activation'])"
   ]
  },
  {
   "cell_type": "code",
   "execution_count": 125,
   "metadata": {},
   "outputs": [],
   "source": [
    "# Function to get the Keras Model\n",
    "def build_classifier6(neurons=1):\n",
    "    classifier = Sequential()\n",
    "    classifier.add(Dense(units = X_train.shape[1], input_dim=11, kernel_initializer='he_uniform', activation = 'relu'))\n",
    "    classifier.add(Dense(neurons, kernel_initializer='he_uniform', activation = 'relu'))\n",
    "    classifier.add(Dropout(rate = 0.2))\n",
    "    classifier.add(Dense(units = 1, activation = 'sigmoid'))\n",
    "    optimizer = Nadam(lr=0.01)\n",
    "    classifier.compile(optimizer = optimizer, \n",
    "                       loss = 'binary_crossentropy', \n",
    "                       metrics = ['accuracy'])\n",
    "    return classifier"
   ]
  },
  {
   "cell_type": "code",
   "execution_count": 126,
   "metadata": {},
   "outputs": [],
   "source": [
    "model6 = KerasClassifier(build_fn=build_classifier6, verbose=0)"
   ]
  },
  {
   "cell_type": "code",
   "execution_count": 127,
   "metadata": {},
   "outputs": [],
   "source": [
    "neurons = [1, 5, 10, 15, 20, 25, 30]"
   ]
  },
  {
   "cell_type": "code",
   "execution_count": 128,
   "metadata": {},
   "outputs": [
    {
     "data": {
      "text/plain": [
       "{'neurons': [1, 5, 10, 15, 20, 25, 30]}"
      ]
     },
     "execution_count": 128,
     "metadata": {},
     "output_type": "execute_result"
    }
   ],
   "source": [
    "param_grid_6= dict(neurons=neurons)\n",
    "param_grid_6"
   ]
  },
  {
   "cell_type": "code",
   "execution_count": 129,
   "metadata": {},
   "outputs": [],
   "source": [
    "grid6 = GridSearchCV(estimator=model6, \n",
    "                    param_grid=param_grid_6, \n",
    "                    cv=5,\n",
    "                    n_jobs=-1)"
   ]
  },
  {
   "cell_type": "code",
   "execution_count": 130,
   "metadata": {},
   "outputs": [],
   "source": [
    "grid_result6 = grid6.fit(X_train, \n",
    "                         y_train, \n",
    "                         batch_size=grid_result.best_params_['batch_size'],\n",
    "                         epochs=grid_result.best_params_['epochs'])"
   ]
  },
  {
   "cell_type": "code",
   "execution_count": 131,
   "metadata": {},
   "outputs": [
    {
     "name": "stdout",
     "output_type": "stream",
     "text": [
      "The optimum number of neurons in hidden layer is:  30\n"
     ]
    }
   ],
   "source": [
    "print(\"The optimum number of neurons in hidden layer is: \",grid_result6.best_params_['neurons'])"
   ]
  },
  {
   "cell_type": "markdown",
   "metadata": {},
   "source": [
    "## Part 5 - Create the Tuned Keras Neural Network"
   ]
  },
  {
   "cell_type": "code",
   "execution_count": 132,
   "metadata": {},
   "outputs": [],
   "source": [
    "# Tuned Function to get the Keras Model\n",
    "classifier = Sequential()\n",
    "\n",
    "classifier.add(Dense(units=X_train.shape[1], input_dim=11, kernel_initializer='he_uniform', activation = 'relu'))\n",
    "classifier.add(Dense(units=30, kernel_initializer='he_uniform', activation = 'relu'))\n",
    "classifier.add(Dropout(rate = 0.2))\n",
    "classifier.add(Dense(units = 1, activation = 'sigmoid'))\n",
    "optimizer = Nadam(lr=0.01)\n",
    "classifier.compile(optimizer = optimizer, \n",
    "                   loss = 'binary_crossentropy', \n",
    "                   metrics = ['accuracy'])"
   ]
  },
  {
   "cell_type": "code",
   "execution_count": 133,
   "metadata": {},
   "outputs": [
    {
     "name": "stdout",
     "output_type": "stream",
     "text": [
      "Epoch 1/20\n",
      "8000/8000 [==============================] - 1s 102us/step - loss: 0.5090 - acc: 0.7757\n",
      "Epoch 2/20\n",
      "8000/8000 [==============================] - 0s 19us/step - loss: 0.4264 - acc: 0.8224\n",
      "Epoch 3/20\n",
      "8000/8000 [==============================] - 0s 15us/step - loss: 0.3860 - acc: 0.8400\n",
      "Epoch 4/20\n",
      "8000/8000 [==============================] - 0s 19us/step - loss: 0.3611 - acc: 0.8534\n",
      "Epoch 5/20\n",
      "8000/8000 [==============================] - 0s 16us/step - loss: 0.3529 - acc: 0.8591\n",
      "Epoch 6/20\n",
      "8000/8000 [==============================] - 0s 17us/step - loss: 0.3488 - acc: 0.8601\n",
      "Epoch 7/20\n",
      "8000/8000 [==============================] - 0s 19us/step - loss: 0.3479 - acc: 0.8591\n",
      "Epoch 8/20\n",
      "8000/8000 [==============================] - 0s 16us/step - loss: 0.3464 - acc: 0.8591\n",
      "Epoch 9/20\n",
      "8000/8000 [==============================] - 0s 18us/step - loss: 0.3438 - acc: 0.8597\n",
      "Epoch 10/20\n",
      "8000/8000 [==============================] - 0s 16us/step - loss: 0.3443 - acc: 0.8596\n",
      "Epoch 11/20\n",
      "8000/8000 [==============================] - 0s 21us/step - loss: 0.3417 - acc: 0.8656\n",
      "Epoch 12/20\n",
      "8000/8000 [==============================] - 0s 19us/step - loss: 0.3410 - acc: 0.8592\n",
      "Epoch 13/20\n",
      "8000/8000 [==============================] - 0s 17us/step - loss: 0.3394 - acc: 0.8611\n",
      "Epoch 14/20\n",
      "8000/8000 [==============================] - 0s 20us/step - loss: 0.3386 - acc: 0.8616\n",
      "Epoch 15/20\n",
      "8000/8000 [==============================] - 0s 19us/step - loss: 0.3422 - acc: 0.8623\n",
      "Epoch 16/20\n",
      "8000/8000 [==============================] - 0s 18us/step - loss: 0.3405 - acc: 0.8615\n",
      "Epoch 17/20\n",
      "8000/8000 [==============================] - 0s 18us/step - loss: 0.3391 - acc: 0.8590\n",
      "Epoch 18/20\n",
      "8000/8000 [==============================] - 0s 18us/step - loss: 0.3409 - acc: 0.8610\n",
      "Epoch 19/20\n",
      "8000/8000 [==============================] - 0s 18us/step - loss: 0.3390 - acc: 0.8616\n",
      "Epoch 20/20\n",
      "8000/8000 [==============================] - 0s 19us/step - loss: 0.3372 - acc: 0.8636\n"
     ]
    },
    {
     "data": {
      "text/plain": [
       "<keras.callbacks.History at 0x1bb04048>"
      ]
     },
     "execution_count": 133,
     "metadata": {},
     "output_type": "execute_result"
    }
   ],
   "source": [
    "classifier.fit(X_train, y_train, batch_size = 100, epochs = 20)"
   ]
  },
  {
   "cell_type": "code",
   "execution_count": 134,
   "metadata": {},
   "outputs": [
    {
     "data": {
      "text/plain": [
       "array([[0],\n",
       "       [0],\n",
       "       [0],\n",
       "       ...,\n",
       "       [0],\n",
       "       [0],\n",
       "       [0]])"
      ]
     },
     "execution_count": 134,
     "metadata": {},
     "output_type": "execute_result"
    }
   ],
   "source": [
    "y_pred = classifier.predict_classes(X_test)\n",
    "y_pred"
   ]
  },
  {
   "cell_type": "code",
   "execution_count": 135,
   "metadata": {},
   "outputs": [
    {
     "data": {
      "text/plain": [
       "array([[0]])"
      ]
     },
     "execution_count": 135,
     "metadata": {},
     "output_type": "execute_result"
    }
   ],
   "source": [
    "new_prediction = classifier.predict_classes(sc.transform(np.array([[0.0, 0, 600, 1, 40, 3, 60000, 2, 1, 1, 50000]])))\n",
    "new_prediction"
   ]
  },
  {
   "cell_type": "code",
   "execution_count": 136,
   "metadata": {},
   "outputs": [
    {
     "name": "stdout",
     "output_type": "stream",
     "text": [
      "Confusion Matrix for ANN: \n",
      " [[1515   80]\n",
      " [ 200  205]]\n",
      "Accuracy for ANN: \n",
      " 0.86\n",
      "Precision for ANN: \n",
      " 0.7192982456140351\n",
      "Recall for ANN: \n",
      " 0.5061728395061729\n",
      "f1_score for ANN: \n",
      " 0.5942028985507246\n"
     ]
    }
   ],
   "source": [
    "from sklearn.metrics import (confusion_matrix, accuracy_score, precision_score, \n",
    "                             recall_score, f1_score)\n",
    "\t\t\t\t\t\t\t \n",
    "print('Confusion Matrix for ANN: \\n',confusion_matrix(y_test, classifier.predict_classes(X_test)))\n",
    "print('Accuracy for ANN: \\n',accuracy_score(y_test, classifier.predict_classes(X_test)))\n",
    "print('Precision for ANN: \\n',precision_score(y_test, classifier.predict_classes(X_test)))\n",
    "print('Recall for ANN: \\n',recall_score(y_test, classifier.predict_classes(X_test)))\n",
    "print('f1_score for ANN: \\n',f1_score(y_test, classifier.predict_classes(X_test)))"
   ]
  },
  {
   "cell_type": "markdown",
   "metadata": {},
   "source": [
    "## Part 6 - Make Predictions and Evaluate Tuned Model"
   ]
  },
  {
   "cell_type": "code",
   "execution_count": 6,
   "metadata": {},
   "outputs": [
    {
     "data": {
      "text/plain": [
       "'C:\\\\Users\\\\saideep\\\\Downloads'"
      ]
     },
     "execution_count": 6,
     "metadata": {},
     "output_type": "execute_result"
    }
   ],
   "source": [
    "pwd"
   ]
  }
 ],
 "metadata": {
  "kernelspec": {
   "display_name": "Python 3",
   "language": "python",
   "name": "python3"
  },
  "language_info": {
   "codemirror_mode": {
    "name": "ipython",
    "version": 3
   },
   "file_extension": ".py",
   "mimetype": "text/x-python",
   "name": "python",
   "nbconvert_exporter": "python",
   "pygments_lexer": "ipython3",
   "version": "3.8.3"
  }
 },
 "nbformat": 4,
 "nbformat_minor": 2
}
